{
 "cells": [
  {
   "cell_type": "code",
   "execution_count": 2,
   "metadata": {},
   "outputs": [],
   "source": [
    "#IMPORTANDO LIBRERIAS\n",
    "import pandas as pd\n",
    "import requests\n",
    "import json\n",
    "\n",
    "#INDICADOR\n",
    "url =  input ('Pegue URL/LINK en formato JASON: ')\n",
    "\n",
    "response = requests.get(url)\n",
    "data_all = json.loads(response.text)\n",
    "\n",
    "#CREAR LISTA DE AÑOS Y PAISES\n",
    "year_a_extraer = data_all['body']['dimensions'][1]['members']\n",
    "country_a_extraer = data_all['body']['dimensions'][0]['members']\n",
    "year = []\n",
    "id_year = []\n",
    "country = []\n",
    "id_country = []\n",
    "\n",
    "for t in year_a_extraer:\n",
    "    fecha = t['name']\n",
    "    year.append(fecha)\n",
    "    id_fecha = t['id']\n",
    "    id_year.append(id_fecha)\n",
    "\n",
    "for i in country_a_extraer:\n",
    "    pais = i['name']\n",
    "    country.append(pais)\n",
    "    id_pais = i['id']\n",
    "    id_country.append(id_pais)\n",
    "\n",
    "#DATOS DE LA DATA\n",
    "var_name = data_all['body']['metadata']['indicator_name']\n",
    "\n",
    "#EXTRAER DATA\n",
    "data_a_extraer = data_all['body']['data']\n",
    "valores = []\n",
    "abreviatura = []\n",
    "cod_años = []\n",
    "cod_pais = []\n",
    "for i in data_a_extraer:\n",
    "    valor = float(i['value'])   #VALORES DE LA VARIABLE\n",
    "    valores.append(valor)\n",
    "    iso = i['iso3']             #ABREVIATURA DEL PAIS\n",
    "    abreviatura.append(iso)\n",
    "    fecha = i['dim_29117']      #CODIGO DE AÑOS\n",
    "    cod_años.append(fecha)\n",
    "    abrev = i['dim_208']        #CODIGO DE PAIS\n",
    "    cod_pais.append(abrev)\n",
    "\n",
    "data_pre = pd.DataFrame()\n",
    "data_pre['Años'] = cod_años\n",
    "data_pre['Cod_Pais'] = abreviatura\n",
    "data_pre['Pais'] = cod_pais\n",
    "data_pre[var_name] = valores\n",
    "\n",
    "data_pre = data_pre.replace(id_year, year)\n",
    "data_pre = data_pre.replace(id_country, country)\n",
    "\n",
    "data_final = data_pre.sort_values(['Pais','Años'])\n",
    "\n",
    "data_final.to_excel(var_name + '_data.xlsx',index=False)"
   ]
  }
 ],
 "metadata": {
  "interpreter": {
   "hash": "2c3148d5bdef2d2ca7d987380a3ab87e1f67833bbfedefbc33d366c1b7d9455b"
  },
  "kernelspec": {
   "display_name": "Python 3.9.10 64-bit",
   "language": "python",
   "name": "python3"
  },
  "language_info": {
   "codemirror_mode": {
    "name": "ipython",
    "version": 3
   },
   "file_extension": ".py",
   "mimetype": "text/x-python",
   "name": "python",
   "nbconvert_exporter": "python",
   "pygments_lexer": "ipython3",
   "version": "3.9.10"
  },
  "orig_nbformat": 4
 },
 "nbformat": 4,
 "nbformat_minor": 2
}
